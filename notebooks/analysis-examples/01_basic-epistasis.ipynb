{
 "cells": [
  {
   "cell_type": "code",
   "execution_count": null,
   "id": "843ffdfb-4ecf-4ab0-a37e-f213ddef4980",
   "metadata": {},
   "outputs": [],
   "source": [
    "import tfscreen\n",
    "from tfscreen.plot import heatmap\n",
    "import numpy as np\n",
    "import pandas as pd\n",
    "from matplotlib import pyplot as plt"
   ]
  },
  {
   "cell_type": "markdown",
   "id": "12bc02c9-c203-4a80-af42-b0ebbc042880",
   "metadata": {},
   "source": [
    "## Epistasis calculations\n",
    "\n",
    "How to do epistasis calcs for specific mutant cycles or all cycles at once"
   ]
  },
  {
   "cell_type": "code",
   "execution_count": null,
   "id": "e52512ea-da29-4f66-8d75-d972d7f0547a",
   "metadata": {},
   "outputs": [],
   "source": [
    "theta_file = \"/Users/harmsm/Desktop/keep/theta_df.csv\"\n",
    "\n",
    "# Load dataframe and make genotype into categorical\n",
    "df = tfscreen.util.read_dataframe(theta_file)\n",
    "df = tfscreen.genetics.set_categorical_genotype(df)"
   ]
  },
  {
   "cell_type": "code",
   "execution_count": null,
   "id": "4bdf9dc0-bf01-42ec-860c-17ce759ad491",
   "metadata": {},
   "outputs": [],
   "source": [
    "# This generates an array holding lists of all complete mutant cycles in the\n",
    "# dataframe\n",
    "cycles = tfscreen.genetics.build_cycles(df[\"genotype\"])\n",
    "cycles"
   ]
  },
  {
   "cell_type": "code",
   "execution_count": null,
   "id": "df7e252e-bfe3-46a8-b7c1-5e1a2a2c66c5",
   "metadata": {},
   "outputs": [],
   "source": [
    "# Get the data corresponding to cycle 100\n",
    "cycle_selector = cycles[100]\n",
    "print(cycle_selector)\n",
    "cycle_df = df[df[\"genotype\"].isin(cycle_selector)]\n",
    "cycle_df"
   ]
  },
  {
   "cell_type": "code",
   "execution_count": null,
   "id": "c140ccf5-56ce-4e19-b029-162257d5591c",
   "metadata": {},
   "outputs": [],
   "source": [
    "# Get epistasis for the mutant cycle above. The condition_selector should be a set\n",
    "# of columns that uniquely define the conditions under which to calculate \n",
    "# epistasis. As written here, this calculates epistasis at every titrant_conc.\n",
    "# (if we had more than one titrant, this condition_selector would have to \n",
    "# be ['titrant_name','titrant_conc'] to select unique conditions for each \n",
    "# mutant cycle). \n",
    "\n",
    "# scale can be \"add\" (default) or \"mult\" (multiply). \n",
    "ep_out = tfscreen.analysis.extract_epistasis(cycle_df,\n",
    "                                             condition_selector=[\"titrant_conc\"],\n",
    "                                             y_obs=\"theta_est\",\n",
    "                                             y_std=\"theta_std\",\n",
    "                                             scale=\"add\")\n",
    "ep_out"
   ]
  },
  {
   "cell_type": "code",
   "execution_count": null,
   "id": "84d1dfd0-4add-4f5f-a541-dcfbb3122c55",
   "metadata": {},
   "outputs": [],
   "source": [
    "# Plot the results\n",
    "\n",
    "# zero line. If \"mult\" above, zero_value = 1; if 'add', zero_value = 0\n",
    "zero_value = 0\n",
    "\n",
    "# Replace 0 mM iptg --> 1e-6 mM iptg\n",
    "ep_out.loc[ep_out[\"titrant_conc\"] == 0,\"titrant_conc\"] = 1e-6\n",
    "\n",
    "# Create fig/ax plotting objects\n",
    "fig, ax = plt.subplots(1,figsize=(6,6))\n",
    "\n",
    "# Plot scatter and error bars\n",
    "ax.scatter(ep_out[\"titrant_conc\"],\n",
    "           ep_out[\"ep_obs\"],s=30,edgecolor='black',facecolor='none')\n",
    "ax.errorbar(ep_out[\"titrant_conc\"],\n",
    "            ep_out[\"ep_obs\"],\n",
    "            ep_out[\"ep_std\"],\n",
    "            lw=0,capsize=5,elinewidth=0.5,color='black')\n",
    "\n",
    "ax.plot([1e-6,1],[zero_value,zero_value],'--',lw=1,color='gray',zorder=-10)\n",
    "\n",
    "# Clean up axes\n",
    "ax.set_xscale('log')\n",
    "ax.set_xlabel(\"iptg log10 (mM)\")\n",
    "ax.set_ylabel(\"epistasis in theta\")\n",
    "fig.tight_layout()\n",
    "#fig.savefig(\"something.pdf\") \n"
   ]
  },
  {
   "cell_type": "code",
   "execution_count": null,
   "id": "f2547455-2adb-4275-b524-76e3d5a555e6",
   "metadata": {},
   "outputs": [],
   "source": [
    "# Caculate epistasis for every possible mutant cycle at every possible\n",
    "# titrant conc. Use multiplicative scale. \n",
    "all_ep_df = tfscreen.analysis.extract_epistasis(df,\n",
    "                                                condition_selector=[\"titrant_conc\"],\n",
    "                                                y_obs=\"theta_est\",\n",
    "                                                y_std=\"theta_std\",\n",
    "                                                scale=\"mult\")\n"
   ]
  },
  {
   "cell_type": "code",
   "execution_count": null,
   "id": "6cf1bebc-0c22-4eca-af84-4247778073a5",
   "metadata": {},
   "outputs": [],
   "source": [
    "# Plot distribution of observed epistasis at 0, 0.1, and 1 mM IPTG\n",
    "\n",
    "# Extract epistasis \n",
    "ep_at_0mM = all_ep_df[all_ep_df[\"titrant_conc\"] == 0][\"ep_obs\"]\n",
    "ep_at_0p1mM = all_ep_df[all_ep_df[\"titrant_conc\"] == 0.1][\"ep_obs\"]\n",
    "ep_at_1mM = all_ep_df[all_ep_df[\"titrant_conc\"] == 1][\"ep_obs\"]\n",
    "\n",
    "bins = np.linspace(-8,8,100)\n",
    "fig, ax = plt.subplots(1,3,figsize=(12,4),sharey=True)\n",
    "counts, bin_edges, bars = ax[0].hist(ep_at_0mM,bins=bins)\n",
    "ax[0].set_title(\"theta ep @ 0.0 mM IPTG\")\n",
    "\n",
    "counts, bin_edges, bars = ax[1].hist(ep_at_0p1mM,bins=bins)\n",
    "ax[1].set_title(\"theta ep @ 0.1 mM IPTG\")\n",
    "\n",
    "\n",
    "counts, bin_edges, bars = ax[2].hist(ep_at_1mM,bins=bins)\n",
    "ax[2].set_title(\"theta ep @ 1.0 mM IPTG\")\n",
    "\n",
    "ax[0].set_ylabel('counts')\n",
    "for i in range(3):\n",
    "    ax[i].set_xlabel(\"theta ep\")\n",
    "    ax[i].plot([0,0],[0,30000],'--',color='gray')\n",
    "fig.tight_layout()\n",
    "\n",
    "\n"
   ]
  },
  {
   "cell_type": "code",
   "execution_count": null,
   "id": "79db52b5-f26c-4a0d-8d75-532ae6352c85",
   "metadata": {},
   "outputs": [],
   "source": []
  },
  {
   "cell_type": "code",
   "execution_count": null,
   "id": "39b3048d-237c-4f6e-8641-fed267e060b7",
   "metadata": {},
   "outputs": [],
   "source": []
  }
 ],
 "metadata": {
  "kernelspec": {
   "display_name": "Python 3 (ipykernel)",
   "language": "python",
   "name": "python3"
  },
  "language_info": {
   "codemirror_mode": {
    "name": "ipython",
    "version": 3
   },
   "file_extension": ".py",
   "mimetype": "text/x-python",
   "name": "python",
   "nbconvert_exporter": "python",
   "pygments_lexer": "ipython3",
   "version": "3.12.2"
  }
 },
 "nbformat": 4,
 "nbformat_minor": 5
}
