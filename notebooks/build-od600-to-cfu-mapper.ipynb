{
 "cells": [
  {
   "cell_type": "markdown",
   "id": "02768150-b00c-4df6-a649-0d9ed0bca532",
   "metadata": {},
   "source": [
    "$$\\sigma_{cfu}^{2}=\\sigma_{cfu,fit}^{2}+\\sigma_{cfu,OD600}^{2}$$\n",
    "\n",
    "$$\\sigma_{cfu}^{2}\\approx\\boldsymbol{J}_{p}\\boldsymbol{C}_{p}\\boldsymbol{J}_{p}^{T}+\\left(\\frac{\\partial [cfu/mL]}{\\partial [OD600]}\\right)^{2}\\sigma_{OD600}^{2}$$\n",
    "\n",
    "$$\\sigma_{cfu}^{2}\\approx\\boldsymbol{J}_{p}\\boldsymbol{C}_{p}\\boldsymbol{J}_{p}^{T}+\\left(a(OD600)+b\\right)^{2}\\left(p(OD600)^{2}+q(OD600)+r\\right)$$\n",
    "\n"
   ]
  },
  {
   "cell_type": "code",
   "execution_count": 2,
   "id": "af0c7d76-f45a-4f98-ba25-bf2438673f32",
   "metadata": {},
   "outputs": [],
   "source": [
    "import pandas as pd\n",
    "import numpy as np\n",
    "from matplotlib import pyplot as plt\n",
    "\n",
    "from tfscreen.fitting import (\n",
    "    run_least_squares,\n",
    "    predict_with_error\n",
    ")\n",
    "\n",
    "\n",
    "def simple_poly(params: np.ndarray, x: np.ndarray) -> np.ndarray:\n",
    "    \"\"\"\n",
    "    Evaluate a polynomial at specific x values.\n",
    "\n",
    "    The polynomial is defined by the coefficients in `params`. The function\n",
    "    assumes the coefficients are ordered from the lowest degree to the highest\n",
    "    (c_0, c_1, c_2, ...).\n",
    "\n",
    "    Parameters\n",
    "    ----------\n",
    "    params : numpy.ndarray\n",
    "        An array of polynomial coefficients in order `[c0, c1, c2, ...]`.\n",
    "        Shape should be 1D. \n",
    "    x : numpy.ndarray\n",
    "        A 1D array of the points at which to evaluate the polynomial(s),\n",
    "        with shape (N,).\n",
    "\n",
    "    Returns\n",
    "    -------\n",
    "    numpy.ndarray\n",
    "        A 1D array containing the result of the polynomial evaluation(s).\n",
    "    \"\"\"\n",
    "    \n",
    "    # Create an exponent for each coefficient row: [0, 1, 2, ...]'\n",
    "    exponents = np.arange(params.shape[0])\n",
    "    terms = params[:, np.newaxis] * (x ** exponents[:, np.newaxis])\n",
    "    \n",
    "    return np.sum(terms, axis=0)\n",
    "\n"
   ]
  },
  {
   "cell_type": "markdown",
   "id": "b655076d-92ed-4e30-8300-ec31f3f4179b",
   "metadata": {},
   "source": [
    "### OD600 measurment\n",
    "\n",
    "We need to figure out two things about the OD600 measurement itself. First, what is the detection threshold? Second, what is the spread on replicate measurements? In this, we are going to assume that we remain well below the upper limit of detection. "
   ]
  },
  {
   "cell_type": "code",
   "execution_count": 3,
   "id": "56665e3e-6e16-4750-9db5-14c003631dc9",
   "metadata": {},
   "outputs": [
    {
     "data": {
      "text/html": [
       "<div>\n",
       "<style scoped>\n",
       "    .dataframe tbody tr th:only-of-type {\n",
       "        vertical-align: middle;\n",
       "    }\n",
       "\n",
       "    .dataframe tbody tr th {\n",
       "        vertical-align: top;\n",
       "    }\n",
       "\n",
       "    .dataframe thead th {\n",
       "        text-align: right;\n",
       "    }\n",
       "</style>\n",
       "<table border=\"1\" class=\"dataframe\">\n",
       "  <thead>\n",
       "    <tr style=\"text-align: right;\">\n",
       "      <th></th>\n",
       "      <th>rep0</th>\n",
       "      <th>rep1</th>\n",
       "      <th>rep2</th>\n",
       "      <th>rep3</th>\n",
       "      <th>rep4</th>\n",
       "      <th>rep5</th>\n",
       "      <th>rep6</th>\n",
       "      <th>rep7</th>\n",
       "      <th>rep8</th>\n",
       "      <th>rep9</th>\n",
       "    </tr>\n",
       "    <tr>\n",
       "      <th>dilution</th>\n",
       "      <th></th>\n",
       "      <th></th>\n",
       "      <th></th>\n",
       "      <th></th>\n",
       "      <th></th>\n",
       "      <th></th>\n",
       "      <th></th>\n",
       "      <th></th>\n",
       "      <th></th>\n",
       "      <th></th>\n",
       "    </tr>\n",
       "  </thead>\n",
       "  <tbody>\n",
       "    <tr>\n",
       "      <th>1.000000</th>\n",
       "      <td>0.5993</td>\n",
       "      <td>0.6060</td>\n",
       "      <td>0.5971</td>\n",
       "      <td>0.5928</td>\n",
       "      <td>0.5954</td>\n",
       "      <td>0.5929</td>\n",
       "      <td>0.5895</td>\n",
       "      <td>0.5906</td>\n",
       "      <td>0.5996</td>\n",
       "      <td>0.5868</td>\n",
       "    </tr>\n",
       "    <tr>\n",
       "      <th>0.333333</th>\n",
       "      <td>0.2733</td>\n",
       "      <td>0.2721</td>\n",
       "      <td>0.2705</td>\n",
       "      <td>0.2671</td>\n",
       "      <td>0.2670</td>\n",
       "      <td>0.2660</td>\n",
       "      <td>0.2673</td>\n",
       "      <td>0.2661</td>\n",
       "      <td>0.2655</td>\n",
       "      <td>0.2590</td>\n",
       "    </tr>\n",
       "    <tr>\n",
       "      <th>0.111111</th>\n",
       "      <td>0.1505</td>\n",
       "      <td>0.1503</td>\n",
       "      <td>0.1483</td>\n",
       "      <td>0.1471</td>\n",
       "      <td>0.1461</td>\n",
       "      <td>0.1429</td>\n",
       "      <td>0.1430</td>\n",
       "      <td>0.1434</td>\n",
       "      <td>0.1442</td>\n",
       "      <td>0.1431</td>\n",
       "    </tr>\n",
       "    <tr>\n",
       "      <th>0.037037</th>\n",
       "      <td>0.1090</td>\n",
       "      <td>0.1113</td>\n",
       "      <td>0.1085</td>\n",
       "      <td>0.1094</td>\n",
       "      <td>0.1111</td>\n",
       "      <td>0.1076</td>\n",
       "      <td>0.1081</td>\n",
       "      <td>0.1106</td>\n",
       "      <td>0.1096</td>\n",
       "      <td>0.1100</td>\n",
       "    </tr>\n",
       "    <tr>\n",
       "      <th>0.012346</th>\n",
       "      <td>0.0983</td>\n",
       "      <td>0.0989</td>\n",
       "      <td>0.0969</td>\n",
       "      <td>0.0972</td>\n",
       "      <td>0.0994</td>\n",
       "      <td>0.0960</td>\n",
       "      <td>0.0966</td>\n",
       "      <td>0.0979</td>\n",
       "      <td>0.1003</td>\n",
       "      <td>0.1003</td>\n",
       "    </tr>\n",
       "    <tr>\n",
       "      <th>0.004115</th>\n",
       "      <td>0.0949</td>\n",
       "      <td>0.0934</td>\n",
       "      <td>0.0938</td>\n",
       "      <td>0.0933</td>\n",
       "      <td>0.0932</td>\n",
       "      <td>0.0929</td>\n",
       "      <td>0.0927</td>\n",
       "      <td>0.0928</td>\n",
       "      <td>0.0930</td>\n",
       "      <td>0.0928</td>\n",
       "    </tr>\n",
       "  </tbody>\n",
       "</table>\n",
       "</div>"
      ],
      "text/plain": [
       "            rep0    rep1    rep2    rep3    rep4    rep5    rep6    rep7  \\\n",
       "dilution                                                                   \n",
       "1.000000  0.5993  0.6060  0.5971  0.5928  0.5954  0.5929  0.5895  0.5906   \n",
       "0.333333  0.2733  0.2721  0.2705  0.2671  0.2670  0.2660  0.2673  0.2661   \n",
       "0.111111  0.1505  0.1503  0.1483  0.1471  0.1461  0.1429  0.1430  0.1434   \n",
       "0.037037  0.1090  0.1113  0.1085  0.1094  0.1111  0.1076  0.1081  0.1106   \n",
       "0.012346  0.0983  0.0989  0.0969  0.0972  0.0994  0.0960  0.0966  0.0979   \n",
       "0.004115  0.0949  0.0934  0.0938  0.0933  0.0932  0.0929  0.0927  0.0928   \n",
       "\n",
       "            rep8    rep9  \n",
       "dilution                  \n",
       "1.000000  0.5996  0.5868  \n",
       "0.333333  0.2655  0.2590  \n",
       "0.111111  0.1442  0.1431  \n",
       "0.037037  0.1096  0.1100  \n",
       "0.012346  0.1003  0.1003  \n",
       "0.004115  0.0930  0.0928  "
      ]
     },
     "execution_count": 3,
     "metadata": {},
     "output_type": "execute_result"
    }
   ],
   "source": [
    "# Read in the dataframe with replicate OD600 measurements\n",
    "\n",
    "df = pd.read_excel(\"input/Dilution_range_keio_20250917.xlsx\",\n",
    "              sheet_name=\"1-3dilution\",\n",
    "              header=None,\n",
    "              names=[f\"rep{i}\" for i in range(10)])\n",
    "df[\"dilution\"] = 1/(3**(np.arange(len(df))))\n",
    "df = df.set_index(\"dilution\")\n",
    "df"
   ]
  },
  {
   "cell_type": "markdown",
   "id": "72e05fde-fc7f-438f-ad3e-ca199ff394d3",
   "metadata": {},
   "source": [
    "### Identify detection threshold"
   ]
  },
  {
   "cell_type": "code",
   "execution_count": 4,
   "id": "466abadf-e87c-4c87-91cc-fb2ad596c96e",
   "metadata": {},
   "outputs": [
    {
     "name": "stdout",
     "output_type": "stream",
     "text": [
      "Detection threshold is: 0.09573000000000001\n"
     ]
    },
    {
     "data": {
      "image/png": "[encoded data removed]",
      "text/plain": [
       "<Figure size 600x600 with 1 Axes>"
      ]
     },
     "metadata": {},
     "output_type": "display_data"
    }
   ],
   "source": [
    "# Get mean and standard deviation from the rows\n",
    "\n",
    "arr = df.to_numpy()\n",
    "mu = np.mean(arr,axis=1)\n",
    "std = np.std(arr,axis=1)\n",
    "\n",
    "fig, ax = plt.subplots(1,figsize=(6,6))\n",
    "\n",
    "ax.errorbar(x=df.index,\n",
    "            y=mu,\n",
    "            yerr=std,\n",
    "            elinewidth=1,capsize=5,lw=0)\n",
    "ax.scatter(x=df.index,\n",
    "           y=mu,\n",
    "           s=30,edgecolor=\"gray\",facecolor=\"none\")\n",
    "\n",
    "od600_meas_threshold = (mu[-2] - mu[-1])/2 + mu[-1]\n",
    "ax.plot([0.001,0.7],[od600_meas_threshold,od600_meas_threshold],'--',color='gray')\n",
    "ax.set_xlabel(\"dilution\")\n",
    "ax.set_ylabel(\"observed OD600\")\n",
    "\n",
    "ax.set_yscale('log')\n",
    "ax.set_xscale('log')\n",
    "\n",
    "# Detection limit is midway between lowest and next-to-lowest point\n",
    "print(f\"Detection threshold is: {od600_meas_threshold}\")\n"
   ]
  },
  {
   "cell_type": "markdown",
   "id": "f0b377be-19ab-4564-aa64-a6c5d5965b79",
   "metadata": {},
   "source": [
    "### Characterize how the OD600 measurement uncertainty varies with OD600 value"
   ]
  },
  {
   "cell_type": "code",
   "execution_count": 5,
   "id": "0c8b0dd0-6c37-4bce-876d-9e592547bf0f",
   "metadata": {},
   "outputs": [
    {
     "name": "stdout",
     "output_type": "stream",
     "text": [
      "OD600 meas error vs. log(OD600) intercept: 0.0068743731997848775\n",
      "OD600 meas error vs. log(OD600) slope: 0.0024295904612180188\n"
     ]
    },
    {
     "data": {
      "image/png": "[encoded data removed]",
      "text/plain": [
       "<Figure size 600x600 with 1 Axes>"
      ]
     },
     "metadata": {},
     "output_type": "display_data"
    }
   ],
   "source": [
    "# Error in OD600 is linear in log(OD600). \n",
    "fig, ax = plt.subplots(1,figsize=(6,6))\n",
    "\n",
    "# Fit a line to OD600 measurement uncertainty vs. log(OD600)\n",
    "p = np.polynomial.Polynomial.fit(np.log(mu),std,deg=1,domain=[])\n",
    "mu_smooth = np.linspace(np.min(mu),np.max(mu))\n",
    "\n",
    "# Plot \n",
    "ax.scatter(mu,std,s=40,edgecolor=\"black\",facecolor=\"none\")\n",
    "ax.plot(mu_smooth,p(np.log(mu_smooth)),lw=2,color='red')\n",
    "ax.set_xlabel(\"mean OD600\")\n",
    "ax.set_ylabel(\"standard deviation in OD600\")\n",
    "\n",
    "od600_std_b, od600_std_m = p.coef\n",
    "\n",
    "print(f\"OD600 meas error vs. log(OD600) intercept: {od600_std_b}\")\n",
    "print(f\"OD600 meas error vs. log(OD600) slope: {od600_std_m}\")\n"
   ]
  },
  {
   "cell_type": "markdown",
   "id": "50d209e7-65c1-4096-9f24-2c39d40d99f0",
   "metadata": {},
   "source": [
    "### Get plausible estimate of cfu/mL standard deviation from data"
   ]
  },
  {
   "cell_type": "code",
   "execution_count": 6,
   "id": "f77fb337-5858-46e3-903e-212d14b53987",
   "metadata": {},
   "outputs": [
    {
     "data": {
      "text/html": [
       "<div>\n",
       "<style scoped>\n",
       "    .dataframe tbody tr th:only-of-type {\n",
       "        vertical-align: middle;\n",
       "    }\n",
       "\n",
       "    .dataframe tbody tr th {\n",
       "        vertical-align: top;\n",
       "    }\n",
       "\n",
       "    .dataframe thead th {\n",
       "        text-align: right;\n",
       "    }\n",
       "</style>\n",
       "<table border=\"1\" class=\"dataframe\">\n",
       "  <thead>\n",
       "    <tr style=\"text-align: right;\">\n",
       "      <th></th>\n",
       "      <th>plate_reader</th>\n",
       "      <th>cfu_per_mL</th>\n",
       "    </tr>\n",
       "  </thead>\n",
       "  <tbody>\n",
       "    <tr>\n",
       "      <th>0</th>\n",
       "      <td>0.5880</td>\n",
       "      <td>485000000</td>\n",
       "    </tr>\n",
       "    <tr>\n",
       "      <th>1</th>\n",
       "      <td>0.5299</td>\n",
       "      <td>385000000</td>\n",
       "    </tr>\n",
       "    <tr>\n",
       "      <th>2</th>\n",
       "      <td>0.4499</td>\n",
       "      <td>315000000</td>\n",
       "    </tr>\n",
       "    <tr>\n",
       "      <th>3</th>\n",
       "      <td>0.3857</td>\n",
       "      <td>244000000</td>\n",
       "    </tr>\n",
       "    <tr>\n",
       "      <th>4</th>\n",
       "      <td>0.3386</td>\n",
       "      <td>198000000</td>\n",
       "    </tr>\n",
       "    <tr>\n",
       "      <th>5</th>\n",
       "      <td>0.2941</td>\n",
       "      <td>161000000</td>\n",
       "    </tr>\n",
       "    <tr>\n",
       "      <th>6</th>\n",
       "      <td>0.2588</td>\n",
       "      <td>146000000</td>\n",
       "    </tr>\n",
       "    <tr>\n",
       "      <th>7</th>\n",
       "      <td>0.2267</td>\n",
       "      <td>101000000</td>\n",
       "    </tr>\n",
       "    <tr>\n",
       "      <th>8</th>\n",
       "      <td>0.1830</td>\n",
       "      <td>75000000</td>\n",
       "    </tr>\n",
       "    <tr>\n",
       "      <th>9</th>\n",
       "      <td>0.1680</td>\n",
       "      <td>68000000</td>\n",
       "    </tr>\n",
       "    <tr>\n",
       "      <th>10</th>\n",
       "      <td>0.1532</td>\n",
       "      <td>46000000</td>\n",
       "    </tr>\n",
       "    <tr>\n",
       "      <th>11</th>\n",
       "      <td>0.1390</td>\n",
       "      <td>49000000</td>\n",
       "    </tr>\n",
       "  </tbody>\n",
       "</table>\n",
       "</div>"
      ],
      "text/plain": [
       "    plate_reader  cfu_per_mL\n",
       "0         0.5880   485000000\n",
       "1         0.5299   385000000\n",
       "2         0.4499   315000000\n",
       "3         0.3857   244000000\n",
       "4         0.3386   198000000\n",
       "5         0.2941   161000000\n",
       "6         0.2588   146000000\n",
       "7         0.2267   101000000\n",
       "8         0.1830    75000000\n",
       "9         0.1680    68000000\n",
       "10        0.1532    46000000\n",
       "11        0.1390    49000000"
      ]
     },
     "execution_count": 6,
     "metadata": {},
     "output_type": "execute_result"
    }
   ],
   "source": [
    "pc_df = pd.read_excel(\"od600-to-cfu/cfu-od600-calibration.xlsx\",sheet_name=\"platereader_to_cfu\")\n",
    "pc_df"
   ]
  },
  {
   "cell_type": "code",
   "execution_count": 7,
   "id": "a4527803-d919-4d01-8370-9c60aa1ba2b6",
   "metadata": {},
   "outputs": [],
   "source": [
    "# Extract estimate of cfu_est and a (fake) cfu_std based on counting statistics\n",
    "\n",
    "pipette_pct_err = 0.02\n",
    "num_dilutions = 3\n",
    "\n",
    "fake_counts = pc_df[\"cfu_per_mL\"].to_numpy()/(100**num_dilutions)\n",
    "\n",
    "od600_est = pc_df[\"plate_reader\"].to_numpy()\n",
    "cfu_est = fake_counts*(100**num_dilutions)\n",
    "cfu_std = cfu_est*np.sqrt(1/fake_counts + (num_dilutions + 1)*(pipette_pct_err)**(2))\n"
   ]
  },
  {
   "cell_type": "markdown",
   "id": "b882ee80-15e7-424d-9dbb-5ef5101a3a53",
   "metadata": {},
   "source": [
    "### Fit a polynomial to cfu/mL vs. OD600"
   ]
  },
  {
   "cell_type": "code",
   "execution_count": 8,
   "id": "f4e7174b-a9be-4fea-a335-c9ece525e030",
   "metadata": {},
   "outputs": [
    {
     "name": "stdout",
     "output_type": "stream",
     "text": [
      "cfu parameters\n",
      "[-3.40617810e+07  4.72324523e+08  6.57171199e+08]\n"
     ]
    },
    {
     "name": "stderr",
     "output_type": "stream",
     "text": [
      "/Users/harmsm/miniconda3/lib/python3.12/site-packages/numpy/_core/numeric.py:476: RuntimeWarning: invalid value encountered in cast\n",
      "  multiarray.copyto(res, fill_value, casting='unsafe')\n"
     ]
    }
   ],
   "source": [
    "# Get polynomial relating od600_est to cfu_est and cfu_std\n",
    "params, param_std, cov_matrix, fit = run_least_squares(simple_poly,\n",
    "                                                       cfu_est,\n",
    "                                                       cfu_std,\n",
    "                                                       [1,0,0],\n",
    "                                                       args=(od600_est,))\n",
    "print(\"cfu parameters\")\n",
    "print(params)"
   ]
  },
  {
   "cell_type": "markdown",
   "id": "c1920ced-017f-428e-96cd-b75d91213e58",
   "metadata": {},
   "source": [
    "### Fit a polynomial of cfu/mL error to OD600. "
   ]
  },
  {
   "cell_type": "code",
   "execution_count": 9,
   "id": "516ab382-c2ba-4a74-80a0-7b3d79ebd5ba",
   "metadata": {},
   "outputs": [
    {
     "name": "stdout",
     "output_type": "stream",
     "text": [
      "err_pred\n",
      "[ 2009256.69108424  3767156.77728439 19187416.58649789]\n"
     ]
    }
   ],
   "source": [
    "\n",
    "# Using covariance matrix, estimate cfu_pred_std --> the standard error on\n",
    "# our predicted cfu/mL given the model\n",
    "od600_smooth = np.linspace(np.min(od600_est)*0.95,np.max(od600_est)*1.05,20)\n",
    "cfu_pred, cfu_pred_std = predict_with_error(simple_poly,\n",
    "                                            params,\n",
    "                                            cov_matrix,\n",
    "                                            args=(od600_smooth,))\n",
    "\n",
    "# Create a polynomial of cfu_pred_std vs. od600, allowing us to calculate \n",
    "# our cfu_pred_std given od600. \n",
    "err_params, _, err_cov_matrix, _ = run_least_squares(simple_poly,\n",
    "                                                           cfu_pred_std,\n",
    "                                                           np.full(len(cfu_pred),0.1e7),\n",
    "                                                           [1,0,0],\n",
    "                                                           args=(od600_smooth,))\n",
    "\n",
    "print(\"err_pred\")\n",
    "print(err_params)"
   ]
  },
  {
   "cell_type": "markdown",
   "id": "1571f1fb-7acc-4e8d-bed1-2a00bbca6317",
   "metadata": {},
   "source": [
    "### Final synthesized function"
   ]
  },
  {
   "cell_type": "code",
   "execution_count": 14,
   "id": "e3d44c5f-a385-4d2b-afaf-f7f937212569",
   "metadata": {},
   "outputs": [
    {
     "data": {
      "text/plain": [
       "array([ 17.17631551,  17.17631551,  17.17631551,  17.17631551,\n",
       "        17.17631551,  17.17631551,  17.17631551,  17.17631551,\n",
       "        17.17631551,  17.17631551,  17.17631551,  17.17631551,\n",
       "        17.17631551,  17.17631551,  17.17631551,  17.17631551,\n",
       "        19.61068539,  23.39971506,  27.23986244,  31.13112753,\n",
       "        35.07351033,  39.06701084,  43.11162906,  47.20736498,\n",
       "        51.35421862,  55.55218996,  59.80127901,  64.10148577,\n",
       "        68.45281024,  72.85525242,  77.3088123 ,  81.8134899 ,\n",
       "        86.3692852 ,  90.97619821,  95.63422894, 100.34337736,\n",
       "       105.1036435 , 109.91502735, 114.77752891, 119.69114817,\n",
       "       124.65588514, 129.67173982, 134.73871221, 139.85680231,\n",
       "       145.02601012, 150.24633564, 155.51777886, 160.8403398 ,\n",
       "       166.21401844, 171.63881479, 177.11472885, 182.64176062,\n",
       "       188.2199101 , 193.84917728, 199.52956218, 205.26106478,\n",
       "       211.04368509, 216.87742311, 222.76227884, 228.69825228,\n",
       "       234.68534343, 240.72355228, 246.81287885, 252.95332312,\n",
       "       259.1448851 , 265.38756479, 271.68136219, 278.0262773 ,\n",
       "       284.42231011, 290.86946064, 297.36772887, 303.91711481,\n",
       "       310.51761847, 317.16923983, 323.87197889, 330.62583567,\n",
       "       337.43081016, 344.28690235, 351.19411225, 358.15243987,\n",
       "       365.16188519, 372.22244822, 379.33412895, 386.4969274 ,\n",
       "       393.71084356, 400.97587742, 408.29202899, 415.65929827,\n",
       "       423.07768526, 430.54718996, 438.06781237, 445.63955249,\n",
       "       453.26241031, 460.93638584, 468.66147909, 476.43769004,\n",
       "       484.2650187 , 492.14346507, 500.07302914, 508.05371093])"
      ]
     },
     "execution_count": 14,
     "metadata": {},
     "output_type": "execute_result"
    }
   ],
   "source": [
    "\n",
    "def od600_to_cfu(od600):\n",
    "    \"\"\"\n",
    "    Convert Harms lab plate reader OD600 values to cfu/mL using empirical\n",
    "    calibration parameters.\n",
    "\n",
    "    Parameters\n",
    "    ----------\n",
    "    od600 : np.ndarray\n",
    "        array of OD600 measurements\n",
    "\n",
    "    Returns\n",
    "    -------\n",
    "    cfu_est : np.ndarray\n",
    "        1D array of estimated cfu/mL from OD600\n",
    "    cfu_std : np.ndarray\n",
    "        1D array of standard error on the estimated cfu/mL\n",
    "    detectable : np.ndarray\n",
    "        1D boolean array indicating whether the OD600 was above the \n",
    "        detection threshold. \n",
    "    \"\"\"\n",
    "    \n",
    "\n",
    "    # emprically, od600 measurement threshold\n",
    "    od600_meas_threshold = 0.09573000000000001\n",
    "    \n",
    "    # emprical od600 to cfu, 2nd-order polynomial\n",
    "    a_cfu = -3.40617810e+07\n",
    "    b_cfu =  4.72324523e+08\n",
    "    c_cfu =  6.57171199e+08\n",
    "    \n",
    "    # empirical cfu standard error vs. od600, 2nd-order polynomial\n",
    "    a_err = 2009256.69108424\n",
    "    b_err = 3767156.77728439\n",
    "    c_err = 19187416.58649789\n",
    "    \n",
    "    # empirically, od600 measurement error follows:\n",
    "    #     ln(od600)*od600_std_m + od600_std_b\n",
    "    od600_std_m = 0.0024295904612180188\n",
    "    od600_std_b = 0.0068743731997848775\n",
    "    \n",
    "    # see if we are dealing with a single value. Turn into an array for\n",
    "    # simplicity. \n",
    "    single_value = False\n",
    "    if np.isscalar(od600):\n",
    "        single_value = True\n",
    "        od600 = np.array([od600])\n",
    "    \n",
    "    # work on a copy\n",
    "    od600 = od600.copy()\n",
    "    \n",
    "    # left-cap values below the measurement threshold\n",
    "    detectable = np.ones(len(od600),dtype=bool)\n",
    "    detectable[od600 < od600_meas_threshold] = False\n",
    "    od600[od600 < od600_meas_threshold] = od600_meas_threshold\n",
    "        \n",
    "    # caclulate cfu estimate\n",
    "    cfu_est = a_cfu + b_cfu*(od600) + c_cfu*(od600**2)\n",
    "    \n",
    "    # caclulate (cfu estimate error)^2 from polynomial\n",
    "    cfu_est_std_2 = (a_err + b_err*(od600) + c_err*(od600**2))**2\n",
    "    \n",
    "    # caclulate (dy/dx)^2 of the cfu vs od600 curve\n",
    "    dy_dx_2 = (b_cfu + 2*c_cfu*od600)**2\n",
    "    \n",
    "    # caclulate (error in od600 measurement)^2\n",
    "    od600_std_2 = (od600_std_m*np.log(od600) + od600_std_b)**2 \n",
    "    \n",
    "    # Final cfu_err is square root of combined variances\n",
    "    cfu_std = np.sqrt(cfu_est_std_2 + dy_dx_2*od600_std_2)\n",
    "    \n",
    "    if single_value:\n",
    "        cfu_est = cfu_est[0]\n",
    "        cfu_std = cfu_std[0]\n",
    "        detectable = detectable[0]\n",
    "    \n",
    "    return cfu_est, cfu_std, detectable\n",
    "\n",
    "\n",
    "od600_smooth = np.linspace(0,np.max(od600_est)*1.05,100)\n",
    "\n",
    "cfu_est_final, cfu_std_final, detectable = od600_to_cfu(od600_smooth)\n",
    "\n",
    "cfu_est_final/1e6"
   ]
  },
  {
   "cell_type": "markdown",
   "id": "0fcea3d2-fd60-4295-bb06-3bb973bd422f",
   "metadata": {},
   "source": [
    "### Create a plot of results"
   ]
  },
  {
   "cell_type": "code",
   "execution_count": 11,
   "id": "74b3385a-9e58-4b83-90d6-08204c825a03",
   "metadata": {},
   "outputs": [
    {
     "data": {
      "image/png": "[encoded data removed]",
      "text/plain": [
       "<Figure size 600x600 with 1 Axes>"
      ]
     },
     "metadata": {},
     "output_type": "display_data"
    }
   ],
   "source": [
    "\n",
    "fig, ax = plt.subplots(1,figsize=(6,6))\n",
    "ax.scatter(od600_est,\n",
    "           cfu_est,\n",
    "           s=25,facecolor='none',edgecolor='black',zorder=10)\n",
    "ax.errorbar(x=od600_est,\n",
    "            xerr=(od600_std_m*np.log(od600_est) + od600_std_b),\n",
    "            y=cfu_est,\n",
    "            yerr=cfu_std,\n",
    "            lw=0,capsize=5,color='black',elinewidth=1,zorder=10)\n",
    "\n",
    "ax.plot(od600_smooth,cfu_est_final,'-',color='red',lw=2)\n",
    "ax.fill_between(od600_smooth,\n",
    "                cfu_est_final-cfu_std_final,\n",
    "                cfu_est_final+cfu_std_final,\n",
    "                color='darkgray',\n",
    "                zorder=-3)\n",
    "ax.plot([od600_meas_threshold,od600_meas_threshold],\n",
    "        [0,5.5e8],'--',color='gray')\n",
    "\n",
    "ax.set_xlabel(\"OD600\")\n",
    "ax.set_ylabel(\"cfu/mL\")\n",
    "ax.spines['right'].set_visible(False)\n",
    "ax.spines['top'].set_visible(False)\n",
    "ax.set_yscale(\"log\")\n"
   ]
  },
  {
   "cell_type": "code",
   "execution_count": null,
   "id": "df534856-629f-45bc-a8f4-08091fa06f72",
   "metadata": {},
   "outputs": [],
   "source": []
  },
  {
   "cell_type": "code",
   "execution_count": null,
   "id": "13596687-fe44-4253-b317-9c57bbf6226c",
   "metadata": {},
   "outputs": [],
   "source": []
  }
 ],
 "metadata": {
  "kernelspec": {
   "display_name": "Python 3 (ipykernel)",
   "language": "python",
   "name": "python3"
  },
  "language_info": {
   "codemirror_mode": {
    "name": "ipython",
    "version": 3
   },
   "file_extension": ".py",
   "mimetype": "text/x-python",
   "name": "python",
   "nbconvert_exporter": "python",
   "pygments_lexer": "ipython3",
   "version": "3.12.2"
  }
 },
 "nbformat": 4,
 "nbformat_minor": 5
}
